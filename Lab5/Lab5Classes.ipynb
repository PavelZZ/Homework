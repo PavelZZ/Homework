{
 "cells": [
  {
   "cell_type": "markdown",
   "metadata": {},
   "source": [
    "1. Напишите функцию, которая возвращает название валюты (поле ‘Name’) с максимальным значением курса с помощью сервиса https://www.cbr-xml-daily.ru/daily_json.js\n",
    "2. Добавьте в класс Rate параметр diff (со значениями True или False), который в случае значения True в методах курсов валют (eur, usd итд) будет возвращать не курс валюты, а изменение по сравнению в прошлым значением. Считайте, self.diff будет принимать значение True только при возврате значения курса. При отображении всей информации о валюте он не используется."
   ]
  },
  {
   "cell_type": "code",
   "execution_count": 4,
   "metadata": {},
   "outputs": [],
   "source": [
    "import requests\n",
    "class Rate:\n",
    "    \"\"\"\n",
    "    \n",
    "    \"\"\"\n",
    "    def __init__(self,diff_ = False, format_='value'):\n",
    "        self.diff = diff_\n",
    "        self.format = format_\n",
    "    \n",
    "    def exchange_rates(self):\n",
    "        \"\"\"\n",
    "        Возвращает ответ сервиса с информацией о валютах в виде:\n",
    "        \n",
    "        {\n",
    "            'AMD': {\n",
    "                'CharCode': 'AMD',\n",
    "                'ID': 'R01060',\n",
    "                'Name': 'Армянских драмов',\n",
    "                'Nominal': 100,\n",
    "                'NumCode': '051',\n",
    "                'Previous': 14.103,\n",
    "                'Value': 14.0879\n",
    "                },\n",
    "            ...\n",
    "        }\n",
    "        \"\"\"\n",
    "        self.r = requests.get('https://www.cbr-xml-daily.ru/daily_json.js')\n",
    "        return self.r.json()['Valute']\n",
    "    \n",
    "    def make_format(self, currency):\n",
    "        \"\"\"\n",
    "        Возвращает информацию о валюте currency в двух вариантах:\n",
    "        - полная информация о валюте при self.format = 'full':\n",
    "        Rate('full').make_format('EUR')\n",
    "        {\n",
    "            'CharCode': 'EUR',\n",
    "            'ID': 'R01239',\n",
    "            'Name': 'Евро',\n",
    "            'Nominal': 1,\n",
    "            'NumCode': '978',\n",
    "            'Previous': 79.6765,\n",
    "            'Value': 79.4966\n",
    "        }\n",
    "        \n",
    "        Rate('value').make_format('EUR')\n",
    "        79.4966\n",
    "        \"\"\"\n",
    "        response = self.exchange_rates()\n",
    "        \n",
    "        if currency in response:\n",
    "            if self.format == 'full':\n",
    "                return response[currency]\n",
    "            \n",
    "            if self.format == 'value' and self.diff == True:\n",
    "                return (response[currency]['Value'] - response[currency]['Previous'])\n",
    "            if self.format == 'value' and self.diff == False:\n",
    "                return response[currency]['Value']\n",
    "        \n",
    "        return 'Error'\n",
    "    \n",
    "    def eur(self):\n",
    "        \"\"\"Возвращает курс евро на сегодня в формате self.format\"\"\"\n",
    "        return self.make_format('EUR')\n",
    "    \n",
    "    def usd(self):\n",
    "        \"\"\"Возвращает курс доллара на сегодня в формате self.format\"\"\"\n",
    "        return self.make_format('USD')\n",
    "    \n",
    "    def brl(self):\n",
    "        \"\"\"Возвращает курс бразильского реала на сегодня в формате self.format\"\"\"\n",
    "        return self.make_format('BRL')\n",
    "    def get_max_value(self):\n",
    "        slovar = self.exchange_rates()\n",
    "        m =[]\n",
    "        for i in slovar:\n",
    "            m.append([slovar[i]['Value']/slovar[i]['Nominal'], slovar[i]['Name']])\n",
    "        return(max(m)[1])\n"
   ]
  },
  {
   "cell_type": "code",
   "execution_count": 8,
   "metadata": {},
   "outputs": [
    {
     "name": "stdout",
     "output_type": "stream",
     "text": [
      "СДР (специальные права заимствования)\n"
     ]
    },
    {
     "data": {
      "text/plain": [
       "-1.7065000000000055"
      ]
     },
     "execution_count": 8,
     "metadata": {},
     "output_type": "execute_result"
    }
   ],
   "source": [
    "r = Rate(True)\n",
    "print(r.get_max_value())\n",
    "r.eur()"
   ]
  },
  {
   "cell_type": "markdown",
   "metadata": {},
   "source": [
    "3. Напишите класс Designer, который учитывает количество международных премий для дизайнеров (из презентации: \"Повышение на 1 грейд за каждые 7 баллов. Получение международной премии – это +2 балла\" для каждой аккредитации увеличиваем счетчик на 1, пока считаем, что все дизайнеры проходят аккредитацию). Считайте, что при выходе на работу сотрудник уже имеет две премии и их количество меняется со стажем (получение премии генератор случайных чисел ). Выполните проверку для 20 аккредитаций дизайнера Елены. Подсказки в коде занятия в разделе “Домашнее задание задача 3”.\n",
    "\n",
    "Для проверки используйте код:\n",
    "\n",
    "elena = Designer('Елена', seniority=0, awards=2)\n",
    "for i in range(20):\n",
    "    elena.check_if_it_is_time_for_upgrade()"
   ]
  },
  {
   "cell_type": "code",
   "execution_count": 17,
   "metadata": {},
   "outputs": [
    {
     "name": "stdout",
     "output_type": "stream",
     "text": [
      "Елена grade = 1 seniority = 5\n",
      "Елена grade = 2 seniority = 8\n",
      "Елена grade = 2 seniority = 11\n",
      "Елена grade = 2 seniority = 12\n",
      "Елена grade = 3 seniority = 15\n",
      "Елена grade = 3 seniority = 18\n",
      "Елена grade = 4 seniority = 21\n",
      "Елена grade = 4 seniority = 22\n",
      "Елена grade = 4 seniority = 23\n",
      "Елена grade = 4 seniority = 24\n",
      "Елена grade = 4 seniority = 27\n",
      "Елена grade = 5 seniority = 28\n",
      "Елена grade = 5 seniority = 31\n",
      "Елена grade = 5 seniority = 32\n",
      "Елена grade = 5 seniority = 33\n",
      "Елена grade = 6 seniority = 36\n",
      "Елена grade = 6 seniority = 39\n",
      "Елена grade = 6 seniority = 40\n",
      "Елена grade = 7 seniority = 43\n",
      "Елена grade = 7 seniority = 44\n"
     ]
    }
   ],
   "source": [
    "import random\n",
    "class Employee:\n",
    "    def __init__(self, name, seniority):\n",
    "        self.name = name\n",
    "        self.seniority = seniority\n",
    "        \n",
    "        self.grade = 1\n",
    "    \n",
    "    def grade_up(self):\n",
    "        \"\"\"Повышает уровень сотрудника\"\"\"\n",
    "        self.grade += 1\n",
    "    \n",
    "    def publish_grade(self):\n",
    "        \"\"\"Публикация результатов аккредитации сотрудников\"\"\"\n",
    "        print(self.name, self.grade)\n",
    "    \n",
    "    def check_if_it_is_time_for_upgrade(self):\n",
    "          pass\n",
    "class Designer(Employee):\n",
    "    def __init__(self, name, seniority=0,awards=2):\n",
    "        super().__init__(name, seniority)\n",
    "        self.seniority += awards*2\n",
    "        self.quantity = 7                    #за каждые 7 баллов повышается grade\n",
    "    def check_if_it_is_time_for_upgrade(self):\n",
    "        self.seniority+=1\n",
    "        r = random.random()\n",
    "        if  r >= 0.5:                        #генерируется число от 0 до 1. Если оно не меньше 0.5 то тогда прибавляем премию\n",
    "            self.seniority+=2\n",
    "        if (self.seniority>=self.quantity):   #если количество баллов стажа больше чем текущий счетчик баллов, то прибалвяем grade\n",
    "            self.grade_up()                   \n",
    "            self.quantity+=7                  #увеличиваем счетчик баллов при котором происходит увеличение стажа\n",
    "        print(self.name, \"grade =\", self.grade,\"seniority =\",self.seniority)\n",
    "        \n",
    "Elena = Designer('Елена')\n",
    "for i in range(20):\n",
    "    Elena.check_if_it_is_time_for_upgrade()"
   ]
  }
 ],
 "metadata": {
  "kernelspec": {
   "display_name": "Python 3",
   "language": "python",
   "name": "python3"
  },
  "language_info": {
   "codemirror_mode": {
    "name": "ipython",
    "version": 3
   },
   "file_extension": ".py",
   "mimetype": "text/x-python",
   "name": "python",
   "nbconvert_exporter": "python",
   "pygments_lexer": "ipython3",
   "version": "3.8.3"
  }
 },
 "nbformat": 4,
 "nbformat_minor": 4
}
