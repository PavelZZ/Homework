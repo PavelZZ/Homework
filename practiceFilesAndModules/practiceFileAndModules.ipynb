{
 "cells": [
  {
   "cell_type": "markdown",
   "metadata": {},
   "source": [
    "Задание\n",
    "\n",
    "1. Переведите содержимое файла purchase_log.txt в словарь purchases вида:\n",
    "{‘1840e0b9d4’: ‘Продукты’, …}\n",
    "\n",
    "2.. Для каждого user_id в файле visit_log.csv определите третий столбец с категорией покупки (если покупка была, сам файл visit_log.csv изменять не надо). Запишите в файл funnel.csv визиты из файла visit_log.csv, в которых были покупки с указанием категории.\n",
    "\n",
    "Учтите условия на данные:\n",
    "содержимое purchase_log.txt помещается в оперативную память компьютера\n",
    "содержимое visit_log.csv - нет; используйте только построчную обработку этого файла"
   ]
  },
  {
   "cell_type": "markdown",
   "metadata": {},
   "source": [
    "1."
   ]
  },
  {
   "cell_type": "code",
   "execution_count": 54,
   "metadata": {},
   "outputs": [],
   "source": [
    "\n",
    "import codecs, json\n",
    "content =[]\n",
    "dictin = {}\n",
    "with codecs.open('purchase_log.txt', encoding='utf-8') as f:\n",
    "    content = f.readlines()\n",
    "    j = 0\n",
    "    for i in content:\n",
    "        line = i.strip()\n",
    "        content[j] = json.loads(line)\n",
    "        key = content[j][\"user_id\"]\n",
    "        value = content[j]['category']\n",
    "        #print(key , value)\n",
    "        dictin[key] = value\n",
    "        j+=1\n",
    "    "
   ]
  },
  {
   "cell_type": "code",
   "execution_count": 55,
   "metadata": {},
   "outputs": [],
   "source": [
    "import codecs, json\n",
    "with codecs.open('visit_log.csv', encoding = 'utf-8') as f:\n",
    "    with codecs.open('funnel.csv', 'w', encoding = 'utf-8') as f_wr:\n",
    "        for l in f:\n",
    "            user_id = l.split(',')[0]\n",
    "            if user_id in dictin:\n",
    "                f_wr.write(l.rstrip('\\n'))\n",
    "                f_wr.write(\" \")\n",
    "                f_wr.write(dictin[user_id])\n",
    "                f_wr.write('\\n')\n",
    "                \n",
    "            \n",
    "    "
   ]
  }
 ],
 "metadata": {
  "kernelspec": {
   "display_name": "Python 3",
   "language": "python",
   "name": "python3"
  },
  "language_info": {
   "codemirror_mode": {
    "name": "ipython",
    "version": 3
   },
   "file_extension": ".py",
   "mimetype": "text/x-python",
   "name": "python",
   "nbconvert_exporter": "python",
   "pygments_lexer": "ipython3",
   "version": "3.8.3"
  }
 },
 "nbformat": 4,
 "nbformat_minor": 4
}
